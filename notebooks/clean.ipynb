{
 "cells": [
  {
   "cell_type": "code",
   "execution_count": 8,
   "metadata": {},
   "outputs": [
    {
     "name": "stdout",
     "output_type": "stream",
     "text": [
      "total_short_files: 0\n",
      "[]\n"
     ]
    }
   ],
   "source": [
    "import os\n",
    "\n",
    "total_short_files = 0\n",
    "files = []\n",
    "general_stocks_path = \"../data/historical_yahoo_general_stocks/\"\n",
    "for file in os.listdir(general_stocks_path):\n",
    "    num_lines = sum(1 for line in open(general_stocks_path + file))\n",
    "    if num_lines < 100:\n",
    "        print(file)\n",
    "        total_short_files += 1\n",
    "        files.append(file)\n",
    "print(f\"total_short_files: {total_short_files}\")\n",
    "print(sorted(files))\n",
    "    "
   ]
  },
  {
   "cell_type": "code",
   "execution_count": null,
   "metadata": {},
   "outputs": [],
   "source": []
  }
 ],
 "metadata": {
  "kernelspec": {
   "display_name": "Python 3",
   "language": "python",
   "name": "python3"
  },
  "language_info": {
   "codemirror_mode": {
    "name": "ipython",
    "version": 3
   },
   "file_extension": ".py",
   "mimetype": "text/x-python",
   "name": "python",
   "nbconvert_exporter": "python",
   "pygments_lexer": "ipython3",
   "version": "3.7.6"
  }
 },
 "nbformat": 4,
 "nbformat_minor": 4
}
