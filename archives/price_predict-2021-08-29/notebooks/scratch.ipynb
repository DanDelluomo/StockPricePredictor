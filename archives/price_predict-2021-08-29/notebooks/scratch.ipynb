{
 "cells": [
  {
   "cell_type": "code",
   "execution_count": 12,
   "metadata": {},
   "outputs": [],
   "source": [
    "import pandas as pd\n",
    "import ssl"
   ]
  },
  {
   "cell_type": "code",
   "execution_count": 13,
   "metadata": {},
   "outputs": [],
   "source": [
    "ssl._create_default_https_context = ssl._create_unverified_context"
   ]
  },
  {
   "cell_type": "code",
   "execution_count": 14,
   "metadata": {},
   "outputs": [],
   "source": [
    "gemini_btc_history = pd.read_csv('Gemini_Bitcoin_Historical.csv', skiprows=1)"
   ]
  },
  {
   "cell_type": "code",
   "execution_count": 16,
   "metadata": {},
   "outputs": [
    {
     "data": {
      "text/html": [
       "<div>\n",
       "<style scoped>\n",
       "    .dataframe tbody tr th:only-of-type {\n",
       "        vertical-align: middle;\n",
       "    }\n",
       "\n",
       "    .dataframe tbody tr th {\n",
       "        vertical-align: top;\n",
       "    }\n",
       "\n",
       "    .dataframe thead th {\n",
       "        text-align: right;\n",
       "    }\n",
       "</style>\n",
       "<table border=\"1\" class=\"dataframe\">\n",
       "  <thead>\n",
       "    <tr style=\"text-align: right;\">\n",
       "      <th></th>\n",
       "      <th>Unix Timestamp</th>\n",
       "      <th>Date</th>\n",
       "      <th>Symbol</th>\n",
       "      <th>Open</th>\n",
       "      <th>High</th>\n",
       "      <th>Low</th>\n",
       "      <th>Close</th>\n",
       "      <th>Volume</th>\n",
       "    </tr>\n",
       "  </thead>\n",
       "  <tbody>\n",
       "    <tr>\n",
       "      <th>0</th>\n",
       "      <td>1630123200000</td>\n",
       "      <td>2021-08-28 04:00:00</td>\n",
       "      <td>BTCUSD</td>\n",
       "      <td>48900.01</td>\n",
       "      <td>49189.70</td>\n",
       "      <td>48378.70</td>\n",
       "      <td>48825.24</td>\n",
       "      <td>398.500214</td>\n",
       "    </tr>\n",
       "    <tr>\n",
       "      <th>1</th>\n",
       "      <td>1630036800000</td>\n",
       "      <td>2021-08-27 04:00:00</td>\n",
       "      <td>BTCUSD</td>\n",
       "      <td>46845.94</td>\n",
       "      <td>49313.26</td>\n",
       "      <td>46603.36</td>\n",
       "      <td>48900.01</td>\n",
       "      <td>1383.211655</td>\n",
       "    </tr>\n",
       "    <tr>\n",
       "      <th>2</th>\n",
       "      <td>1629950400000</td>\n",
       "      <td>2021-08-26 04:00:00</td>\n",
       "      <td>BTCUSD</td>\n",
       "      <td>47931.00</td>\n",
       "      <td>48053.14</td>\n",
       "      <td>46287.63</td>\n",
       "      <td>46845.94</td>\n",
       "      <td>2205.002650</td>\n",
       "    </tr>\n",
       "    <tr>\n",
       "      <th>3</th>\n",
       "      <td>1629864000000</td>\n",
       "      <td>2021-08-25 04:00:00</td>\n",
       "      <td>BTCUSD</td>\n",
       "      <td>47995.78</td>\n",
       "      <td>49365.42</td>\n",
       "      <td>47112.12</td>\n",
       "      <td>47931.00</td>\n",
       "      <td>1666.407319</td>\n",
       "    </tr>\n",
       "    <tr>\n",
       "      <th>4</th>\n",
       "      <td>1629777600000</td>\n",
       "      <td>2021-08-24 04:00:00</td>\n",
       "      <td>BTCUSD</td>\n",
       "      <td>49350.00</td>\n",
       "      <td>49867.71</td>\n",
       "      <td>47614.30</td>\n",
       "      <td>47995.78</td>\n",
       "      <td>1369.869424</td>\n",
       "    </tr>\n",
       "    <tr>\n",
       "      <th>...</th>\n",
       "      <td>...</td>\n",
       "      <td>...</td>\n",
       "      <td>...</td>\n",
       "      <td>...</td>\n",
       "      <td>...</td>\n",
       "      <td>...</td>\n",
       "      <td>...</td>\n",
       "      <td>...</td>\n",
       "    </tr>\n",
       "    <tr>\n",
       "      <th>2147</th>\n",
       "      <td>1444622400</td>\n",
       "      <td>2015-10-12 04:00:00</td>\n",
       "      <td>BTCUSD</td>\n",
       "      <td>248.98</td>\n",
       "      <td>248.98</td>\n",
       "      <td>245.75</td>\n",
       "      <td>245.75</td>\n",
       "      <td>71.047743</td>\n",
       "    </tr>\n",
       "    <tr>\n",
       "      <th>2148</th>\n",
       "      <td>1444536000</td>\n",
       "      <td>2015-10-11 04:00:00</td>\n",
       "      <td>BTCUSD</td>\n",
       "      <td>246.30</td>\n",
       "      <td>249.50</td>\n",
       "      <td>245.96</td>\n",
       "      <td>248.98</td>\n",
       "      <td>22.747091</td>\n",
       "    </tr>\n",
       "    <tr>\n",
       "      <th>2149</th>\n",
       "      <td>1444449600</td>\n",
       "      <td>2015-10-10 04:00:00</td>\n",
       "      <td>BTCUSD</td>\n",
       "      <td>245.51</td>\n",
       "      <td>246.30</td>\n",
       "      <td>244.60</td>\n",
       "      <td>246.30</td>\n",
       "      <td>30.870549</td>\n",
       "    </tr>\n",
       "    <tr>\n",
       "      <th>2150</th>\n",
       "      <td>1444363200</td>\n",
       "      <td>2015-10-09 04:00:00</td>\n",
       "      <td>BTCUSD</td>\n",
       "      <td>243.60</td>\n",
       "      <td>249.97</td>\n",
       "      <td>243.60</td>\n",
       "      <td>245.51</td>\n",
       "      <td>61.587068</td>\n",
       "    </tr>\n",
       "    <tr>\n",
       "      <th>2151</th>\n",
       "      <td>1444276800</td>\n",
       "      <td>2015-10-08 04:00:00</td>\n",
       "      <td>BTCUSD</td>\n",
       "      <td>0.00</td>\n",
       "      <td>245.00</td>\n",
       "      <td>0.00</td>\n",
       "      <td>243.60</td>\n",
       "      <td>34.754703</td>\n",
       "    </tr>\n",
       "  </tbody>\n",
       "</table>\n",
       "<p>2152 rows × 8 columns</p>\n",
       "</div>"
      ],
      "text/plain": [
       "      Unix Timestamp                 Date  Symbol      Open      High  \\\n",
       "0      1630123200000  2021-08-28 04:00:00  BTCUSD  48900.01  49189.70   \n",
       "1      1630036800000  2021-08-27 04:00:00  BTCUSD  46845.94  49313.26   \n",
       "2      1629950400000  2021-08-26 04:00:00  BTCUSD  47931.00  48053.14   \n",
       "3      1629864000000  2021-08-25 04:00:00  BTCUSD  47995.78  49365.42   \n",
       "4      1629777600000  2021-08-24 04:00:00  BTCUSD  49350.00  49867.71   \n",
       "...              ...                  ...     ...       ...       ...   \n",
       "2147      1444622400  2015-10-12 04:00:00  BTCUSD    248.98    248.98   \n",
       "2148      1444536000  2015-10-11 04:00:00  BTCUSD    246.30    249.50   \n",
       "2149      1444449600  2015-10-10 04:00:00  BTCUSD    245.51    246.30   \n",
       "2150      1444363200  2015-10-09 04:00:00  BTCUSD    243.60    249.97   \n",
       "2151      1444276800  2015-10-08 04:00:00  BTCUSD      0.00    245.00   \n",
       "\n",
       "           Low     Close       Volume  \n",
       "0     48378.70  48825.24   398.500214  \n",
       "1     46603.36  48900.01  1383.211655  \n",
       "2     46287.63  46845.94  2205.002650  \n",
       "3     47112.12  47931.00  1666.407319  \n",
       "4     47614.30  47995.78  1369.869424  \n",
       "...        ...       ...          ...  \n",
       "2147    245.75    245.75    71.047743  \n",
       "2148    245.96    248.98    22.747091  \n",
       "2149    244.60    246.30    30.870549  \n",
       "2150    243.60    245.51    61.587068  \n",
       "2151      0.00    243.60    34.754703  \n",
       "\n",
       "[2152 rows x 8 columns]"
      ]
     },
     "execution_count": 16,
     "metadata": {},
     "output_type": "execute_result"
    }
   ],
   "source": [
    "gemini_btc_history"
   ]
  },
  {
   "cell_type": "code",
   "execution_count": 20,
   "metadata": {},
   "outputs": [
    {
     "data": {
      "text/plain": [
       "Unix Timestamp      int64\n",
       "Date               object\n",
       "Symbol             object\n",
       "Open              float64\n",
       "High              float64\n",
       "Low               float64\n",
       "Close             float64\n",
       "Volume            float64\n",
       "dtype: object"
      ]
     },
     "execution_count": 20,
     "metadata": {},
     "output_type": "execute_result"
    }
   ],
   "source": [
    "gemini_btc_history.dtypes"
   ]
  },
  {
   "cell_type": "code",
   "execution_count": 31,
   "metadata": {},
   "outputs": [
    {
     "data": {
      "text/html": [
       "<div>\n",
       "<style scoped>\n",
       "    .dataframe tbody tr th:only-of-type {\n",
       "        vertical-align: middle;\n",
       "    }\n",
       "\n",
       "    .dataframe tbody tr th {\n",
       "        vertical-align: top;\n",
       "    }\n",
       "\n",
       "    .dataframe thead th {\n",
       "        text-align: right;\n",
       "    }\n",
       "</style>\n",
       "<table border=\"1\" class=\"dataframe\">\n",
       "  <thead>\n",
       "    <tr style=\"text-align: right;\">\n",
       "      <th></th>\n",
       "      <th>Unix Timestamp</th>\n",
       "      <th>Date</th>\n",
       "      <th>Symbol</th>\n",
       "      <th>Open</th>\n",
       "      <th>High</th>\n",
       "      <th>Low</th>\n",
       "      <th>Close</th>\n",
       "      <th>Volume</th>\n",
       "    </tr>\n",
       "  </thead>\n",
       "  <tbody>\n",
       "  </tbody>\n",
       "</table>\n",
       "</div>"
      ],
      "text/plain": [
       "Empty DataFrame\n",
       "Columns: [Unix Timestamp, Date, Symbol, Open, High, Low, Close, Volume]\n",
       "Index: []"
      ]
     },
     "execution_count": 31,
     "metadata": {},
     "output_type": "execute_result"
    }
   ],
   "source": [
    "]"
   ]
  },
  {
   "cell_type": "code",
   "execution_count": 19,
   "metadata": {},
   "outputs": [
    {
     "name": "stdout",
     "output_type": "stream",
     "text": [
      "366\n",
      "[1630209600000, 48267.19, 48663.36, 47800, 48345.4, 88.6669216949]\n",
      "[1630123200000, 48900.01, 49650, 48107.99, 48267.19, 544.2624244537]\n",
      "[1630036800000, 46845.94, 49313.26, 46603.36, 48900.01, 1383.2116553912]\n",
      "[1629950400000, 47931, 48053.14, 46287.63, 46845.94, 2205.0026501809]\n",
      "[1629864000000, 47995.78, 49365.42, 47112.12, 47931, 1666.4073193234]\n",
      "[1629777600000, 49350, 49867.71, 47614.3, 47995.78, 1369.8694236449]\n",
      "[1629691200000, 50289.05, 50517.99, 48800, 49350, 1051.6627857092]\n",
      "[1629604800000, 48837.62, 50540.19, 48071.03, 50289.05, 974.8124548759]\n",
      "[1629518400000, 48839.62, 49812.54, 48281.42, 48837.62, 1213.1096594226]\n",
      "[1629432000000, 47042.28, 49400, 46714.57, 48839.62, 1328.3183759856]\n"
     ]
    }
   ],
   "source": [
    "import requests\n",
    "response = requests.get(\"https://api.gemini.com/v2/candles/btcusd/1day\")\n",
    "candles = response.json()\n",
    "print(len(candles))\n",
    "# response.json()\n",
    "import time\n",
    "time.sleep(1)\n",
    "for candle in range(0, 10):\n",
    "    print(candles[candle])"
   ]
  },
  {
   "cell_type": "code",
   "execution_count": 8,
   "metadata": {},
   "outputs": [
    {
     "data": {
      "text/plain": [
       "Unix Timestamp  Date                 Symbol  Open      High      Low                  Volume\n",
       "1630123200000   2021-08-28 04:00:00  BTCUSD  48900.01  49189.7   48378.7      398.5002137058\n",
       "1630036800000   2021-08-27 04:00:00  BTCUSD  46845.94  49313.26  46603.36    1383.2116553912\n",
       "1629950400000   2021-08-26 04:00:00  BTCUSD  47931.0   48053.14  46287.63    2205.0026501809\n",
       "1629864000000   2021-08-25 04:00:00  BTCUSD  47995.78  49365.42  47112.12    1666.4073193234\n",
       "                                                                                  ...       \n",
       "1444622400      2015-10-12 04:00:00  BTCUSD  248.98    248.98    245.75        71.0477426014\n",
       "1444536000      2015-10-11 04:00:00  BTCUSD  246.3     249.5     245.96        22.7470905831\n",
       "1444449600      2015-10-10 04:00:00  BTCUSD  245.51    246.3     244.6         30.8705493027\n",
       "1444363200      2015-10-09 04:00:00  BTCUSD  243.6     249.97    243.6         61.5870675401\n",
       "1444276800      2015-10-08 04:00:00  BTCUSD  0.0       245.0     0.0           34.7547026012\n",
       "Name: https://www.CryptoDataDownload.com, Length: 2153, dtype: object"
      ]
     },
     "execution_count": 8,
     "metadata": {},
     "output_type": "execute_result"
    }
   ],
   "source": [
    "gemini_btc_history['https://www.CryptoDataDownload.com']"
   ]
  },
  {
   "cell_type": "code",
   "execution_count": null,
   "metadata": {},
   "outputs": [],
   "source": []
  }
 ],
 "metadata": {
  "kernelspec": {
   "display_name": "Python 3",
   "language": "python",
   "name": "python3"
  },
  "language_info": {
   "codemirror_mode": {
    "name": "ipython",
    "version": 3
   },
   "file_extension": ".py",
   "mimetype": "text/x-python",
   "name": "python",
   "nbconvert_exporter": "python",
   "pygments_lexer": "ipython3",
   "version": "3.7.6"
  }
 },
 "nbformat": 4,
 "nbformat_minor": 4
}
